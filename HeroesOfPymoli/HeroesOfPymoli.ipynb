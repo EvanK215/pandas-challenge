{
 "cells": [
  {
   "cell_type": "markdown",
   "metadata": {},
   "source": [
    "### Note\n",
    "* Instructions have been included for each segment. You do not have to follow them exactly, but they are included to help you think through the steps."
   ]
  },
  {
   "cell_type": "code",
   "execution_count": 12,
   "metadata": {},
   "outputs": [],
   "source": [
    "# Dependencies and Setup\n",
    "import pandas as pd\n",
    "\n",
    "\n",
    "# File to Load (Remember to Change These)\n",
    "file_to_load = \"Resources/purchase_data.csv\"\n",
    "\n",
    "# Read Purchasing File and store into Pandas data frame\n",
    "purchase_data = pd.read_csv(file_to_load)"
   ]
  },
  {
   "cell_type": "markdown",
   "metadata": {},
   "source": [
    "## Player Count"
   ]
  },
  {
   "cell_type": "markdown",
   "metadata": {},
   "source": [
    "* Display the total number of players\n"
   ]
  },
  {
   "cell_type": "code",
   "execution_count": 13,
   "metadata": {
    "tags": []
   },
   "outputs": [
    {
     "output_type": "execute_result",
     "data": {
      "text/plain": "   Unique Players\n0             576",
      "text/html": "<div>\n<style scoped>\n    .dataframe tbody tr th:only-of-type {\n        vertical-align: middle;\n    }\n\n    .dataframe tbody tr th {\n        vertical-align: top;\n    }\n\n    .dataframe thead th {\n        text-align: right;\n    }\n</style>\n<table border=\"1\" class=\"dataframe\">\n  <thead>\n    <tr style=\"text-align: right;\">\n      <th></th>\n      <th>Unique Players</th>\n    </tr>\n  </thead>\n  <tbody>\n    <tr>\n      <th>0</th>\n      <td>576</td>\n    </tr>\n  </tbody>\n</table>\n</div>"
     },
     "metadata": {},
     "execution_count": 13
    }
   ],
   "source": [
    "uniquePlayerCount=len(purchase_data['SN'].unique())\n",
    "#UP_df = pd.DataFrame[uniquePlayers]\n",
    "#print (\"There are\", uniquePlayers1, \"unique players that have purchased items\")\n",
    "Unique_players_df = pd.DataFrame({\"Unique Players\" : [uniquePlayerCount]})\n",
    "\n",
    "Unique_players_df"
   ]
  },
  {
   "cell_type": "markdown",
   "metadata": {},
   "source": [
    "## Purchasing Analysis (Total)"
   ]
  },
  {
   "cell_type": "markdown",
   "metadata": {},
   "source": [
    "* Run basic calculations to obtain number of unique items, average price, etc.\n",
    "\n",
    "\n",
    "* Create a summary data frame to hold the results\n",
    "\n",
    "\n",
    "* Optional: give the displayed data cleaner formatting\n",
    "\n",
    "\n",
    "* Display the summary data frame\n"
   ]
  },
  {
   "cell_type": "code",
   "execution_count": 14,
   "metadata": {
    "scrolled": true
   },
   "outputs": [
    {
     "output_type": "execute_result",
     "data": {
      "text/plain": "   Total Unique Items Average_Price  Total_Purchases Total_Revenue\n0                 179         $3.05              780     $2,379.77",
      "text/html": "<div>\n<style scoped>\n    .dataframe tbody tr th:only-of-type {\n        vertical-align: middle;\n    }\n\n    .dataframe tbody tr th {\n        vertical-align: top;\n    }\n\n    .dataframe thead th {\n        text-align: right;\n    }\n</style>\n<table border=\"1\" class=\"dataframe\">\n  <thead>\n    <tr style=\"text-align: right;\">\n      <th></th>\n      <th>Total Unique Items</th>\n      <th>Average_Price</th>\n      <th>Total_Purchases</th>\n      <th>Total_Revenue</th>\n    </tr>\n  </thead>\n  <tbody>\n    <tr>\n      <th>0</th>\n      <td>179</td>\n      <td>$3.05</td>\n      <td>780</td>\n      <td>$2,379.77</td>\n    </tr>\n  </tbody>\n</table>\n</div>"
     },
     "metadata": {},
     "execution_count": 14
    }
   ],
   "source": [
    "# Find Count of unique items\n",
    "uniqueitems= len(purchase_data['Item Name'].unique())\n",
    "# find Average Price\n",
    "averagePrice = purchase_data['Price'].mean()\n",
    "# find Count of all purchases\n",
    "countPurchases = purchase_data['Purchase ID'].count()\n",
    "# find Sum of all purchases \n",
    "totalRevenue = purchase_data['Price'].sum()\n",
    "# Create Data frame with above data\n",
    "summary_df = pd.DataFrame({\"Total Unique Items\": [uniqueitems],\n",
    "                              \"Average_Price\": averagePrice,\n",
    "                              \"Total_Purchases\": countPurchases,\n",
    "                              \"Total_Revenue\": totalRevenue})\n",
    "#Foramt series as currency \n",
    "summary_df['Average_Price'] = summary_df['Average_Price'].map(\"${:,.2f}\".format)\n",
    "summary_df[\"Total_Revenue\"] = summary_df[\"Total_Revenue\"].map(\"${:,.2f}\".format)\n",
    "summary_df\n"
   ]
  },
  {
   "cell_type": "markdown",
   "metadata": {},
   "source": [
    "## Gender Demographics"
   ]
  },
  {
   "cell_type": "markdown",
   "metadata": {},
   "source": [
    "* Percentage and Count of Male Players\n",
    "\n",
    "\n",
    "* Percentage and Count of Female Players\n",
    "\n",
    "\n",
    "* Percentage and Count of Other / Non-Disclosed\n",
    "\n",
    "\n"
   ]
  },
  {
   "cell_type": "code",
   "execution_count": 15,
   "metadata": {},
   "outputs": [
    {
     "output_type": "execute_result",
     "data": {
      "text/plain": "<pandas.io.formats.style.Styler at 0x1b11ce4e5c0>",
      "text/html": "<style  type=\"text/css\" >\n</style><table id=\"T_1f4349f4_e4b0_11ea_8c59_3402864bff9f\" ><thead>    <tr>        <th class=\"blank level0\" ></th>        <th class=\"col_heading level0 col0\" >TotalCount</th>        <th class=\"col_heading level0 col1\" >Gender percent</th>    </tr>    <tr>        <th class=\"index_name level0\" >Gender</th>        <th class=\"blank\" ></th>        <th class=\"blank\" ></th>    </tr></thead><tbody>\n                <tr>\n                        <th id=\"T_1f4349f4_e4b0_11ea_8c59_3402864bff9flevel0_row0\" class=\"row_heading level0 row0\" >Male</th>\n                        <td id=\"T_1f4349f4_e4b0_11ea_8c59_3402864bff9frow0_col0\" class=\"data row0 col0\" >484</td>\n                        <td id=\"T_1f4349f4_e4b0_11ea_8c59_3402864bff9frow0_col1\" class=\"data row0 col1\" >84.03%</td>\n            </tr>\n            <tr>\n                        <th id=\"T_1f4349f4_e4b0_11ea_8c59_3402864bff9flevel0_row1\" class=\"row_heading level0 row1\" >Female</th>\n                        <td id=\"T_1f4349f4_e4b0_11ea_8c59_3402864bff9frow1_col0\" class=\"data row1 col0\" >81</td>\n                        <td id=\"T_1f4349f4_e4b0_11ea_8c59_3402864bff9frow1_col1\" class=\"data row1 col1\" >14.06%</td>\n            </tr>\n            <tr>\n                        <th id=\"T_1f4349f4_e4b0_11ea_8c59_3402864bff9flevel0_row2\" class=\"row_heading level0 row2\" >Other / Non-Disclosed</th>\n                        <td id=\"T_1f4349f4_e4b0_11ea_8c59_3402864bff9frow2_col0\" class=\"data row2 col0\" >11</td>\n                        <td id=\"T_1f4349f4_e4b0_11ea_8c59_3402864bff9frow2_col1\" class=\"data row2 col1\" >1.91%</td>\n            </tr>\n    </tbody></table>"
     },
     "metadata": {},
     "execution_count": 15
    }
   ],
   "source": [
    "#Create groupby on gender\n",
    "GenderDemo = purchase_data.groupby('Gender')\n",
    "\n",
    "#Find gender total \n",
    "total_per_gender = GenderDemo.nunique()[\"SN\"]\n",
    "\n",
    "#Find Percentage of gender of total population\n",
    "pct_Gender = (total_per_gender/uniquePlayerCount) *100\n",
    "\n",
    "#create new DataFrame with Sn and Gender\n",
    "GenderDemo_df = pd.DataFrame({\"TotalCount\" : total_per_gender, \"Gender percent\" : pct_Gender})\n",
    "\n",
    "#Sort and format dataframe\n",
    "GenderDemo_df.sort_values([\"TotalCount\"], ascending=False).style.format({\"Gender percent\":\"{:.2f}%\"})\n",
    "\n"
   ]
  },
  {
   "cell_type": "markdown",
   "metadata": {},
   "source": [
    "\n",
    "## Purchasing Analysis (Gender)"
   ]
  },
  {
   "cell_type": "markdown",
   "metadata": {},
   "source": [
    "* Run basic calculations to obtain purchase count, avg. purchase price, avg. purchase total per person etc. by gender\n",
    "\n",
    "\n",
    "\n",
    "\n",
    "* Create a summary data frame to hold the results\n",
    "\n",
    "\n",
    "* Optional: give the displayed data cleaner formatting\n",
    "\n",
    "\n",
    "* Display the summary data frame"
   ]
  },
  {
   "cell_type": "code",
   "execution_count": 16,
   "metadata": {},
   "outputs": [
    {
     "output_type": "execute_result",
     "data": {
      "text/plain": "                       Purchase Count Average Purchase Price  \\\nGender                                                         \nFemale                            113                  $3.20   \nMale                              652                  $3.02   \nOther / Non-Disclosed              15                  $3.35   \n\n                      Total Purchase Value Avg Total Purchase per Person  \nGender                                                                    \nFemale                             $361.94                         $4.47  \nMale                             $1,967.64                         $4.07  \nOther / Non-Disclosed               $50.19                         $4.56  ",
      "text/html": "<div>\n<style scoped>\n    .dataframe tbody tr th:only-of-type {\n        vertical-align: middle;\n    }\n\n    .dataframe tbody tr th {\n        vertical-align: top;\n    }\n\n    .dataframe thead th {\n        text-align: right;\n    }\n</style>\n<table border=\"1\" class=\"dataframe\">\n  <thead>\n    <tr style=\"text-align: right;\">\n      <th></th>\n      <th>Purchase Count</th>\n      <th>Average Purchase Price</th>\n      <th>Total Purchase Value</th>\n      <th>Avg Total Purchase per Person</th>\n    </tr>\n    <tr>\n      <th>Gender</th>\n      <th></th>\n      <th></th>\n      <th></th>\n      <th></th>\n    </tr>\n  </thead>\n  <tbody>\n    <tr>\n      <th>Female</th>\n      <td>113</td>\n      <td>$3.20</td>\n      <td>$361.94</td>\n      <td>$4.47</td>\n    </tr>\n    <tr>\n      <th>Male</th>\n      <td>652</td>\n      <td>$3.02</td>\n      <td>$1,967.64</td>\n      <td>$4.07</td>\n    </tr>\n    <tr>\n      <th>Other / Non-Disclosed</th>\n      <td>15</td>\n      <td>$3.35</td>\n      <td>$50.19</td>\n      <td>$4.56</td>\n    </tr>\n  </tbody>\n</table>\n</div>"
     },
     "metadata": {},
     "execution_count": 16
    }
   ],
   "source": [
    "\n",
    "#Create groupby object \n",
    "GenPurch = purchase_data.groupby('Gender')\n",
    "\n",
    "#Find gender total \n",
    "totalPurchases = GenPurch[\"SN\"].count()\n",
    "#total sumof Price Column\n",
    "totalPurchVal = GenPurch[\"Price\"].sum()\n",
    "#Find average purchase price \n",
    "avgPurchPrice = totalPurchVal/totalPurchases\n",
    "#Find Average Total Purchase Price per Person \n",
    "avgTotPurchPerPerson= totalPurchVal/total_per_gender\n",
    "\n",
    "#create new DataFrame with Sn and Gender\n",
    "GenderPurch_df = pd.DataFrame({\n",
    "                \"Purchase Count\" : totalPurchases, \"Average Purchase Price\" : avgPurchPrice, \"Total Purchase Value\" : totalPurchVal, \"Avg Total Purchase per Person\" : avgTotPurchPerPerson\n",
    "})\n",
    "\n",
    "#Sort and format dataframe\n",
    "GenderPurch_df['Total Purchase Value'] = GenderPurch_df['Total Purchase Value'].map(\"${:,.2f}\".format)\n",
    "GenderPurch_df[\"Average Purchase Price\"] = GenderPurch_df[\"Average Purchase Price\"].map(\"${:,.2f}\".format)\n",
    "GenderPurch_df[\"Avg Total Purchase per Person\"] = GenderPurch_df[\"Avg Total Purchase per Person\"].map(\"${:,.2f}\".format)\n",
    "GenderPurch_df\n",
    "\n"
   ]
  },
  {
   "cell_type": "code",
   "execution_count": null,
   "metadata": {},
   "outputs": [],
   "source": []
  },
  {
   "cell_type": "markdown",
   "metadata": {},
   "source": [
    "## Age Demographics"
   ]
  },
  {
   "cell_type": "markdown",
   "metadata": {},
   "source": [
    "* Establish bins for ages\n",
    "\n",
    "\n",
    "* Categorize the existing players using the age bins. Hint: use pd.cut()\n",
    "\n",
    "\n",
    "* Calculate the numbers and percentages by age group\n",
    "\n",
    "\n",
    "* Create a summary data frame to hold the results\n",
    "\n",
    "\n",
    "* Optional: round the percentage column to two decimal points\n",
    "\n",
    "\n",
    "* Display Age Demographics Table\n"
   ]
  },
  {
   "cell_type": "code",
   "execution_count": 17,
   "metadata": {},
   "outputs": [],
   "source": [
    "#Create Age bins and labels \n",
    "bins = [0, 9.9, 14.9, 19.9, 24.9, 29.9, 34.9, 39.9, 99]\n",
    "bin_labels = [\"<10\" ,\"10-14\", \"15-19\", \"20-24\", \"25-29\", \"30-34\", \"35-39\", \"40+\"]\n",
    "\n",
    "purchase_df = pd.DataFrame(purchase_data)\n",
    "\n",
    "#create range categories for bins above \n",
    "purchase_df[\"Age Group\"] = pd.cut(purchase_df[\"Age\"],bins, labels=bin_labels)\n",
    "\n"
   ]
  },
  {
   "cell_type": "code",
   "execution_count": 18,
   "metadata": {
    "tags": []
   },
   "outputs": [
    {
     "output_type": "execute_result",
     "data": {
      "text/plain": "           Total Count pct of Players\nAge Group                            \n<10                 17          2.95%\n10-14               22          3.82%\n15-19              107         18.58%\n20-24              258         44.79%\n25-29               77         13.37%\n30-34               52          9.03%\n35-39               31          5.38%\n40+                 12          2.08%",
      "text/html": "<div>\n<style scoped>\n    .dataframe tbody tr th:only-of-type {\n        vertical-align: middle;\n    }\n\n    .dataframe tbody tr th {\n        vertical-align: top;\n    }\n\n    .dataframe thead th {\n        text-align: right;\n    }\n</style>\n<table border=\"1\" class=\"dataframe\">\n  <thead>\n    <tr style=\"text-align: right;\">\n      <th></th>\n      <th>Total Count</th>\n      <th>pct of Players</th>\n    </tr>\n    <tr>\n      <th>Age Group</th>\n      <th></th>\n      <th></th>\n    </tr>\n  </thead>\n  <tbody>\n    <tr>\n      <th>&lt;10</th>\n      <td>17</td>\n      <td>2.95%</td>\n    </tr>\n    <tr>\n      <th>10-14</th>\n      <td>22</td>\n      <td>3.82%</td>\n    </tr>\n    <tr>\n      <th>15-19</th>\n      <td>107</td>\n      <td>18.58%</td>\n    </tr>\n    <tr>\n      <th>20-24</th>\n      <td>258</td>\n      <td>44.79%</td>\n    </tr>\n    <tr>\n      <th>25-29</th>\n      <td>77</td>\n      <td>13.37%</td>\n    </tr>\n    <tr>\n      <th>30-34</th>\n      <td>52</td>\n      <td>9.03%</td>\n    </tr>\n    <tr>\n      <th>35-39</th>\n      <td>31</td>\n      <td>5.38%</td>\n    </tr>\n    <tr>\n      <th>40+</th>\n      <td>12</td>\n      <td>2.08%</td>\n    </tr>\n  </tbody>\n</table>\n</div>"
     },
     "metadata": {},
     "execution_count": 18
    }
   ],
   "source": [
    "#Create new groupby object \n",
    "ageDemo = purchase_df.groupby('Age Group')\n",
    "\n",
    "#Create Variable for ageGroup Counts \n",
    "ageCount= ageDemo[\"SN\"].nunique()\n",
    "\n",
    "#calc pct players in each age bracket \n",
    "pctofPlayers = (ageCount/uniquePlayerCount)\n",
    "\n",
    "#update DataFrame with calculated series\n",
    "ageDemoSummaryCount = pd.DataFrame({\"Total Count\": ageCount, \"pct of Players\" : pctofPlayers})\n",
    "\n",
    "#Format pct of players to xx.xx%\n",
    "ageDemoSummaryCount[\"pct of Players\"] = ageDemoSummaryCount[\"pct of Players\"].map(\"{:,.2%}\".format)\n",
    "#Sort DataFrame\n",
    "ageDemoSummaryCount.sort_index()\n",
    "\n"
   ]
  },
  {
   "cell_type": "markdown",
   "metadata": {},
   "source": [
    "## Purchasing Analysis (Age)"
   ]
  },
  {
   "cell_type": "markdown",
   "metadata": {},
   "source": [
    "* Bin the purchase_data data frame by age\n",
    "\n",
    "\n",
    "* Run basic calculations to obtain purchase count, avg. purchase price, avg. purchase total per person etc. in the table below\n",
    "\n",
    "\n",
    "* Create a summary data frame to hold the results\n",
    "\n",
    "\n",
    "* Optional: give the displayed data cleaner formatting\n",
    "\n",
    "\n",
    "* Display the summary data frame"
   ]
  },
  {
   "cell_type": "code",
   "execution_count": 19,
   "metadata": {},
   "outputs": [
    {
     "output_type": "execute_result",
     "data": {
      "text/plain": "           Purchase Count Average Purchase Price Total Purch Price  \\\nAge Group                                                            \n<10                    17                  $3.35            $77.13   \n10-14                  22                  $2.96            $82.78   \n15-19                 107                  $3.04           $412.89   \n20-24                 258                  $3.05         $1,114.06   \n25-29                  77                  $2.90           $293.00   \n30-34                  52                  $2.93           $214.00   \n35-39                  31                  $3.60           $147.67   \n40+                    12                  $2.94            $38.24   \n\n          Avg Total Purchase per Person  \nAge Group                                \n<10                               $4.54  \n10-14                             $3.76  \n15-19                             $3.86  \n20-24                             $4.32  \n25-29                             $3.81  \n30-34                             $4.12  \n35-39                             $4.76  \n40+                               $3.19  ",
      "text/html": "<div>\n<style scoped>\n    .dataframe tbody tr th:only-of-type {\n        vertical-align: middle;\n    }\n\n    .dataframe tbody tr th {\n        vertical-align: top;\n    }\n\n    .dataframe thead th {\n        text-align: right;\n    }\n</style>\n<table border=\"1\" class=\"dataframe\">\n  <thead>\n    <tr style=\"text-align: right;\">\n      <th></th>\n      <th>Purchase Count</th>\n      <th>Average Purchase Price</th>\n      <th>Total Purch Price</th>\n      <th>Avg Total Purchase per Person</th>\n    </tr>\n    <tr>\n      <th>Age Group</th>\n      <th></th>\n      <th></th>\n      <th></th>\n      <th></th>\n    </tr>\n  </thead>\n  <tbody>\n    <tr>\n      <th>&lt;10</th>\n      <td>17</td>\n      <td>$3.35</td>\n      <td>$77.13</td>\n      <td>$4.54</td>\n    </tr>\n    <tr>\n      <th>10-14</th>\n      <td>22</td>\n      <td>$2.96</td>\n      <td>$82.78</td>\n      <td>$3.76</td>\n    </tr>\n    <tr>\n      <th>15-19</th>\n      <td>107</td>\n      <td>$3.04</td>\n      <td>$412.89</td>\n      <td>$3.86</td>\n    </tr>\n    <tr>\n      <th>20-24</th>\n      <td>258</td>\n      <td>$3.05</td>\n      <td>$1,114.06</td>\n      <td>$4.32</td>\n    </tr>\n    <tr>\n      <th>25-29</th>\n      <td>77</td>\n      <td>$2.90</td>\n      <td>$293.00</td>\n      <td>$3.81</td>\n    </tr>\n    <tr>\n      <th>30-34</th>\n      <td>52</td>\n      <td>$2.93</td>\n      <td>$214.00</td>\n      <td>$4.12</td>\n    </tr>\n    <tr>\n      <th>35-39</th>\n      <td>31</td>\n      <td>$3.60</td>\n      <td>$147.67</td>\n      <td>$4.76</td>\n    </tr>\n    <tr>\n      <th>40+</th>\n      <td>12</td>\n      <td>$2.94</td>\n      <td>$38.24</td>\n      <td>$3.19</td>\n    </tr>\n  </tbody>\n</table>\n</div>"
     },
     "metadata": {},
     "execution_count": 19
    }
   ],
   "source": [
    "#calc Average Purchase Price \n",
    "ageAvgPurchPrice = ageDemo[\"Price\"].mean()\n",
    "#Calc total Puchase Value\n",
    "ageTotalPurchPrice= ageDemo[\"Price\"].sum()\n",
    "#Find Average Total Purchase Price per Person \n",
    "ageAvgTotPurchPerPerson= ageTotalPurchPrice/ageCount\n",
    "\n",
    "#Create DataFrame with above calculations\n",
    "\n",
    "ageDemoSummary_df = pd.DataFrame({\"Purchase Count\" : ageCount,\n",
    "                                  \"Average Purchase Price\" : ageAvgPurchPrice,\n",
    "                                  \"Total Purch Price\" : ageTotalPurchPrice,\n",
    "                                  \"Avg Total Purchase per Person\" : ageAvgTotPurchPerPerson\n",
    "}) \n",
    "\n",
    "# Format with currency style\n",
    "ageDemoSummary_df[\"Average Purchase Price\"] = ageDemoSummary_df[\"Average Purchase Price\"].map(\"${:,.2f}\".format)\n",
    "ageDemoSummary_df[\"Total Purch Price\"] = ageDemoSummary_df[\"Total Purch Price\"].map(\"${:,.2f}\".format)\n",
    "ageDemoSummary_df[\"Avg Total Purchase per Person\"] = ageDemoSummary_df[\"Avg Total Purchase per Person\"].map(\"${:,.2f}\".format)\n",
    "\n",
    "ageDemoSummary_df\n",
    "\n"
   ]
  },
  {
   "cell_type": "markdown",
   "metadata": {},
   "source": [
    "## Top Spenders"
   ]
  },
  {
   "cell_type": "markdown",
   "metadata": {},
   "source": [
    "* Run basic calculations to obtain the results in the table below\n",
    "\n",
    "\n",
    "* Create a summary data frame to hold the results\n",
    "\n",
    "\n",
    "* Sort the total purchase value column in descending order\n",
    "\n",
    "\n",
    "* Optional: give the displayed data cleaner formatting\n",
    "\n",
    "\n",
    "* Display a preview of the summary data frame\n",
    "\n"
   ]
  },
  {
   "cell_type": "code",
   "execution_count": 26,
   "metadata": {},
   "outputs": [
    {
     "output_type": "execute_result",
     "data": {
      "text/plain": "             Purchase Count Average Purchase Price Total Purch Price\nSN                                                                  \nLisosia93                 5                  $3.79            $18.96\nIdastidru52               4                  $3.86            $15.45\nChamjask73                3                  $4.61            $13.83\nIral74                    4                  $3.40            $13.62\nIskadarya95               3                  $4.37            $13.10",
      "text/html": "<div>\n<style scoped>\n    .dataframe tbody tr th:only-of-type {\n        vertical-align: middle;\n    }\n\n    .dataframe tbody tr th {\n        vertical-align: top;\n    }\n\n    .dataframe thead th {\n        text-align: right;\n    }\n</style>\n<table border=\"1\" class=\"dataframe\">\n  <thead>\n    <tr style=\"text-align: right;\">\n      <th></th>\n      <th>Purchase Count</th>\n      <th>Average Purchase Price</th>\n      <th>Total Purch Price</th>\n    </tr>\n    <tr>\n      <th>SN</th>\n      <th></th>\n      <th></th>\n      <th></th>\n    </tr>\n  </thead>\n  <tbody>\n    <tr>\n      <th>Lisosia93</th>\n      <td>5</td>\n      <td>$3.79</td>\n      <td>$18.96</td>\n    </tr>\n    <tr>\n      <th>Idastidru52</th>\n      <td>4</td>\n      <td>$3.86</td>\n      <td>$15.45</td>\n    </tr>\n    <tr>\n      <th>Chamjask73</th>\n      <td>3</td>\n      <td>$4.61</td>\n      <td>$13.83</td>\n    </tr>\n    <tr>\n      <th>Iral74</th>\n      <td>4</td>\n      <td>$3.40</td>\n      <td>$13.62</td>\n    </tr>\n    <tr>\n      <th>Iskadarya95</th>\n      <td>3</td>\n      <td>$4.37</td>\n      <td>$13.10</td>\n    </tr>\n  </tbody>\n</table>\n</div>"
     },
     "metadata": {},
     "execution_count": 26
    }
   ],
   "source": [
    "#Create groupby object \n",
    "topSpenders = purchase_data.groupby('SN')\n",
    "\n",
    "#Find basic calculations\n",
    "topPurchCount = topSpenders[\"SN\"].count()\n",
    "topAvgPurchPrice = topSpenders[\"Price\"].mean()\n",
    "topTotPurchPrice = topSpenders[\"Price\"].sum()\n",
    "\n",
    "#Create and format summary Data frome \n",
    "topSpendersSummary_df = pd.DataFrame({\"Purchase Count\" : topPurchCount,\n",
    "                                  \"Average Purchase Price\" : topAvgPurchPrice,\n",
    "                                  \"Total Purch Price\" : topTotPurchPrice,\n",
    "}) \n",
    "#Sort DataFrame\n",
    "topSpendersSummary_df = topSpendersSummary_df.sort_values(by = 'Total Purch Price', ascending=False)\n",
    "# Format with currency style\n",
    "topSpendersSummary_df[\"Average Purchase Price\"] = topSpendersSummary_df[\"Average Purchase Price\"].map(\"${:,.2f}\".format)\n",
    "topSpendersSummary_df[\"Total Purch Price\"] = topSpendersSummary_df[\"Total Purch Price\"].map(\"${:,.2f}\".format)\n",
    "#Return top 5 \n",
    "TopSpendersSummary_df = topSpendersSummary_df.head(5)\n",
    "TopSpendersSummary_df"
   ]
  },
  {
   "cell_type": "markdown",
   "metadata": {},
   "source": [
    "## Most Popular Items"
   ]
  },
  {
   "cell_type": "markdown",
   "metadata": {},
   "source": [
    "* Retrieve the Item ID, Item Name, and Item Price columns\n",
    "\n",
    "\n",
    "* Group by Item ID and Item Name. Perform calculations to obtain purchase count, item price, and total purchase value\n",
    "\n",
    "\n",
    "* Create a summary data frame to hold the results\n",
    "\n",
    "\n",
    "* Sort the purchase count column in descending order\n",
    "\n",
    "\n",
    "* Optional: give the displayed data cleaner formatting\n",
    "\n",
    "\n",
    "* Display a preview of the summary data frame\n",
    "\n"
   ]
  },
  {
   "cell_type": "code",
   "execution_count": 21,
   "metadata": {},
   "outputs": [
    {
     "output_type": "execute_result",
     "data": {
      "text/plain": "                                                      Purchase Count  \\\nItem ID Item Name                                                      \n92      Final Critic                                              13   \n178     Oathbreaker, Last Hope of the Breaking Storm              12   \n145     Fiery Glass Crusader                                       9   \n132     Persuasion                                                 9   \n108     Extraction, Quickblade Of Trembling Hands                  9   \n...                                                              ...   \n42      The Decapitator                                            1   \n51      Endbringer                                                 1   \n118     Ghost Reaver, Longsword of Magic                           1   \n104     Gladiator's Glaive                                         1   \n91      Celeste                                                    1   \n\n                                                     Average Purchase Price  \\\nItem ID Item Name                                                             \n92      Final Critic                                                  $4.88   \n178     Oathbreaker, Last Hope of the Breaking Storm                  $4.23   \n145     Fiery Glass Crusader                                          $4.58   \n132     Persuasion                                                    $3.33   \n108     Extraction, Quickblade Of Trembling Hands                     $3.53   \n...                                                                     ...   \n42      The Decapitator                                               $1.75   \n51      Endbringer                                                    $4.66   \n118     Ghost Reaver, Longsword of Magic                              $2.17   \n104     Gladiator's Glaive                                            $1.93   \n91      Celeste                                                       $4.17   \n\n                                                     Total Purchase Price  \nItem ID Item Name                                                          \n92      Final Critic                                               $59.99  \n178     Oathbreaker, Last Hope of the Breaking Storm               $50.76  \n145     Fiery Glass Crusader                                       $41.22  \n132     Persuasion                                                 $28.99  \n108     Extraction, Quickblade Of Trembling Hands                  $31.77  \n...                                                                   ...  \n42      The Decapitator                                             $1.75  \n51      Endbringer                                                  $4.66  \n118     Ghost Reaver, Longsword of Magic                            $2.17  \n104     Gladiator's Glaive                                          $1.93  \n91      Celeste                                                     $4.17  \n\n[179 rows x 3 columns]",
      "text/html": "<div>\n<style scoped>\n    .dataframe tbody tr th:only-of-type {\n        vertical-align: middle;\n    }\n\n    .dataframe tbody tr th {\n        vertical-align: top;\n    }\n\n    .dataframe thead th {\n        text-align: right;\n    }\n</style>\n<table border=\"1\" class=\"dataframe\">\n  <thead>\n    <tr style=\"text-align: right;\">\n      <th></th>\n      <th></th>\n      <th>Purchase Count</th>\n      <th>Average Purchase Price</th>\n      <th>Total Purchase Price</th>\n    </tr>\n    <tr>\n      <th>Item ID</th>\n      <th>Item Name</th>\n      <th></th>\n      <th></th>\n      <th></th>\n    </tr>\n  </thead>\n  <tbody>\n    <tr>\n      <th>92</th>\n      <th>Final Critic</th>\n      <td>13</td>\n      <td>$4.88</td>\n      <td>$59.99</td>\n    </tr>\n    <tr>\n      <th>178</th>\n      <th>Oathbreaker, Last Hope of the Breaking Storm</th>\n      <td>12</td>\n      <td>$4.23</td>\n      <td>$50.76</td>\n    </tr>\n    <tr>\n      <th>145</th>\n      <th>Fiery Glass Crusader</th>\n      <td>9</td>\n      <td>$4.58</td>\n      <td>$41.22</td>\n    </tr>\n    <tr>\n      <th>132</th>\n      <th>Persuasion</th>\n      <td>9</td>\n      <td>$3.33</td>\n      <td>$28.99</td>\n    </tr>\n    <tr>\n      <th>108</th>\n      <th>Extraction, Quickblade Of Trembling Hands</th>\n      <td>9</td>\n      <td>$3.53</td>\n      <td>$31.77</td>\n    </tr>\n    <tr>\n      <th>...</th>\n      <th>...</th>\n      <td>...</td>\n      <td>...</td>\n      <td>...</td>\n    </tr>\n    <tr>\n      <th>42</th>\n      <th>The Decapitator</th>\n      <td>1</td>\n      <td>$1.75</td>\n      <td>$1.75</td>\n    </tr>\n    <tr>\n      <th>51</th>\n      <th>Endbringer</th>\n      <td>1</td>\n      <td>$4.66</td>\n      <td>$4.66</td>\n    </tr>\n    <tr>\n      <th>118</th>\n      <th>Ghost Reaver, Longsword of Magic</th>\n      <td>1</td>\n      <td>$2.17</td>\n      <td>$2.17</td>\n    </tr>\n    <tr>\n      <th>104</th>\n      <th>Gladiator's Glaive</th>\n      <td>1</td>\n      <td>$1.93</td>\n      <td>$1.93</td>\n    </tr>\n    <tr>\n      <th>91</th>\n      <th>Celeste</th>\n      <td>1</td>\n      <td>$4.17</td>\n      <td>$4.17</td>\n    </tr>\n  </tbody>\n</table>\n<p>179 rows × 3 columns</p>\n</div>"
     },
     "metadata": {},
     "execution_count": 21
    }
   ],
   "source": [
    "#Create groupby object \n",
    "PopItems = purchase_df.groupby(['Item ID', 'Item Name'])\n",
    "#Find basic calculations\n",
    "PopItemsCount = PopItems[\"Item ID\"].count()\n",
    "popItemPrice = PopItems[\"Price\"].max()\n",
    "popTotPurchValue = PopItems[\"Price\"].sum()\n",
    "\n",
    "#Create and summary Data from\n",
    "PopItemsSummary_df = pd.DataFrame({\"Purchase Count\" : PopItemsCount,\n",
    "                                  \"Average Purchase Price\" : popItemPrice,\n",
    "                                  \"Total Purchase Price\" : popTotPurchValue,\n",
    "}) \n",
    "# Format with currency style\n",
    "PopItemsSummary_df[\"Average Purchase Price\"] = PopItemsSummary_df[\"Average Purchase Price\"].map(\"${:,.2f}\".format)\n",
    "PopItemsSummary_df[\"Total Purchase Price\"] = PopItemsSummary_df[\"Total Purchase Price\"].map(\"${:,.2f}\".format)\n",
    "\n",
    "\n",
    "#Sort DataFrame\n",
    "PopItemsSummary_df = PopItemsSummary_df.sort_values(by = 'Purchase Count', ascending=False)\n",
    "#Return top 5 \n",
    "PopItemsSummary_df = PopItemsSummary_df\n",
    "PopItemsSummary_df\n",
    "\n"
   ]
  },
  {
   "cell_type": "markdown",
   "metadata": {},
   "source": [
    "## Most Profitable Items"
   ]
  },
  {
   "cell_type": "markdown",
   "metadata": {},
   "source": [
    "* Sort the above table by total purchase value in descending order\n",
    "\n",
    "\n",
    "* Optional: give the displayed data cleaner formatting\n",
    "\n",
    "\n",
    "* Display a preview of the data frame\n",
    "\n"
   ]
  },
  {
   "cell_type": "code",
   "execution_count": 22,
   "metadata": {
    "scrolled": true
   },
   "outputs": [
    {
     "output_type": "execute_result",
     "data": {
      "text/plain": "                                           Purchase Count  \\\nItem ID Item Name                                           \n63      Stormfury Mace                                  2   \n29      Chaos, Ender of the End                         5   \n173     Stormfury Longsword                             2   \n38      The Void, Vengeance of Dark Magic               4   \n143     Frenzied Scimitar                               6   \n\n                                          Average Purchase Price  \\\nItem ID Item Name                                                  \n63      Stormfury Mace                                     $4.99   \n29      Chaos, Ender of the End                            $1.98   \n173     Stormfury Longsword                                $4.93   \n38      The Void, Vengeance of Dark Magic                  $2.37   \n143     Frenzied Scimitar                                  $1.56   \n\n                                          Total Purchase Price  \nItem ID Item Name                                               \n63      Stormfury Mace                                   $9.98  \n29      Chaos, Ender of the End                          $9.90  \n173     Stormfury Longsword                              $9.86  \n38      The Void, Vengeance of Dark Magic                $9.48  \n143     Frenzied Scimitar                                $9.36  ",
      "text/html": "<div>\n<style scoped>\n    .dataframe tbody tr th:only-of-type {\n        vertical-align: middle;\n    }\n\n    .dataframe tbody tr th {\n        vertical-align: top;\n    }\n\n    .dataframe thead th {\n        text-align: right;\n    }\n</style>\n<table border=\"1\" class=\"dataframe\">\n  <thead>\n    <tr style=\"text-align: right;\">\n      <th></th>\n      <th></th>\n      <th>Purchase Count</th>\n      <th>Average Purchase Price</th>\n      <th>Total Purchase Price</th>\n    </tr>\n    <tr>\n      <th>Item ID</th>\n      <th>Item Name</th>\n      <th></th>\n      <th></th>\n      <th></th>\n    </tr>\n  </thead>\n  <tbody>\n    <tr>\n      <th>63</th>\n      <th>Stormfury Mace</th>\n      <td>2</td>\n      <td>$4.99</td>\n      <td>$9.98</td>\n    </tr>\n    <tr>\n      <th>29</th>\n      <th>Chaos, Ender of the End</th>\n      <td>5</td>\n      <td>$1.98</td>\n      <td>$9.90</td>\n    </tr>\n    <tr>\n      <th>173</th>\n      <th>Stormfury Longsword</th>\n      <td>2</td>\n      <td>$4.93</td>\n      <td>$9.86</td>\n    </tr>\n    <tr>\n      <th>38</th>\n      <th>The Void, Vengeance of Dark Magic</th>\n      <td>4</td>\n      <td>$2.37</td>\n      <td>$9.48</td>\n    </tr>\n    <tr>\n      <th>143</th>\n      <th>Frenzied Scimitar</th>\n      <td>6</td>\n      <td>$1.56</td>\n      <td>$9.36</td>\n    </tr>\n  </tbody>\n</table>\n</div>"
     },
     "metadata": {},
     "execution_count": 22
    }
   ],
   "source": [
    "#Sort DataFrame\n",
    "ProfitSummary_df = PopItemsSummary_df.sort_values(by = 'Total Purchase Price', ascending=False)\n",
    "#Return top 5 \n",
    "ProfitSummary_df = ProfitSummary_df.head(5)\n",
    "ProfitSummary_df"
   ]
  },
  {
   "cell_type": "code",
   "execution_count": null,
   "metadata": {},
   "outputs": [],
   "source": []
  }
 ],
 "metadata": {
  "anaconda-cloud": {},
  "kernel_info": {
   "name": "python3"
  },
  "kernelspec": {
   "display_name": "Python 3.7.6 64-bit ('PythonData': conda)",
   "language": "python",
   "name": "python37664bitpythondatacondadbad3b4e249345b1b3c89ad57c4010a7"
  },
  "language_info": {
   "codemirror_mode": {
    "name": "ipython",
    "version": 3
   },
   "file_extension": ".py",
   "mimetype": "text/x-python",
   "name": "python",
   "nbconvert_exporter": "python",
   "pygments_lexer": "ipython3",
   "version": "3.7.6-final"
  },
  "latex_envs": {
   "LaTeX_envs_menu_present": true,
   "autoclose": false,
   "autocomplete": true,
   "bibliofile": "biblio.bib",
   "cite_by": "apalike",
   "current_citInitial": 1,
   "eqLabelWithNumbers": true,
   "eqNumInitial": 1,
   "hotkeys": {
    "equation": "Ctrl-E",
    "itemize": "Ctrl-I"
   },
   "labels_anchors": false,
   "latex_user_defs": false,
   "report_style_numbering": false,
   "user_envs_cfg": false
  },
  "nteract": {
   "version": "0.2.0"
  }
 },
 "nbformat": 4,
 "nbformat_minor": 2
}